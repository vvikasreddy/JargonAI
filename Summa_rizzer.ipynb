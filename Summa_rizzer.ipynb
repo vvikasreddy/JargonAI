{
  "nbformat": 4,
  "nbformat_minor": 0,
  "metadata": {
    "colab": {
      "provenance": [],
      "machine_shape": "hm",
      "gpuType": "A100",
      "include_colab_link": true
    },
    "kernelspec": {
      "name": "python3",
      "display_name": "Python 3"
    },
    "language_info": {
      "name": "python"
    },
    "accelerator": "GPU"
  },
  "cells": [
    {
      "cell_type": "markdown",
      "metadata": {
        "id": "view-in-github",
        "colab_type": "text"
      },
      "source": [
        "<a href=\"https://colab.research.google.com/github/vvikasreddy/JargonAI/blob/main/Summa_rizzer.ipynb\" target=\"_parent\"><img src=\"https://colab.research.google.com/assets/colab-badge.svg\" alt=\"Open In Colab\"/></a>"
      ]
    },
    {
      "cell_type": "markdown",
      "source": [
        "# Importing and Downloading libraries"
      ],
      "metadata": {
        "id": "GpV0dY6jmG6-"
      }
    },
    {
      "cell_type": "code",
      "source": [
        "# downloading necessary libraries\n",
        "!pip install datasets\n",
        "!pip install rouge_score\n",
        "!pip install bert-score\n",
        "!pip install evaluate"
      ],
      "metadata": {
        "colab": {
          "base_uri": "https://localhost:8080/"
        },
        "id": "FJCguv5rm6ot",
        "outputId": "880edc6c-9811-4328-8687-2b8166af161a"
      },
      "execution_count": 1,
      "outputs": [
        {
          "output_type": "stream",
          "name": "stdout",
          "text": [
            "Requirement already satisfied: datasets in /usr/local/lib/python3.10/dist-packages (3.2.0)\n",
            "Requirement already satisfied: filelock in /usr/local/lib/python3.10/dist-packages (from datasets) (3.16.1)\n",
            "Requirement already satisfied: numpy>=1.17 in /usr/local/lib/python3.10/dist-packages (from datasets) (1.26.4)\n",
            "Requirement already satisfied: pyarrow>=15.0.0 in /usr/local/lib/python3.10/dist-packages (from datasets) (17.0.0)\n",
            "Requirement already satisfied: dill<0.3.9,>=0.3.0 in /usr/local/lib/python3.10/dist-packages (from datasets) (0.3.8)\n",
            "Requirement already satisfied: pandas in /usr/local/lib/python3.10/dist-packages (from datasets) (2.2.2)\n",
            "Requirement already satisfied: requests>=2.32.2 in /usr/local/lib/python3.10/dist-packages (from datasets) (2.32.3)\n",
            "Requirement already satisfied: tqdm>=4.66.3 in /usr/local/lib/python3.10/dist-packages (from datasets) (4.67.1)\n",
            "Requirement already satisfied: xxhash in /usr/local/lib/python3.10/dist-packages (from datasets) (3.5.0)\n",
            "Requirement already satisfied: multiprocess<0.70.17 in /usr/local/lib/python3.10/dist-packages (from datasets) (0.70.16)\n",
            "Requirement already satisfied: fsspec<=2024.9.0,>=2023.1.0 in /usr/local/lib/python3.10/dist-packages (from fsspec[http]<=2024.9.0,>=2023.1.0->datasets) (2024.9.0)\n",
            "Requirement already satisfied: aiohttp in /usr/local/lib/python3.10/dist-packages (from datasets) (3.11.10)\n",
            "Requirement already satisfied: huggingface-hub>=0.23.0 in /usr/local/lib/python3.10/dist-packages (from datasets) (0.27.0)\n",
            "Requirement already satisfied: packaging in /usr/local/lib/python3.10/dist-packages (from datasets) (24.2)\n",
            "Requirement already satisfied: pyyaml>=5.1 in /usr/local/lib/python3.10/dist-packages (from datasets) (6.0.2)\n",
            "Requirement already satisfied: aiohappyeyeballs>=2.3.0 in /usr/local/lib/python3.10/dist-packages (from aiohttp->datasets) (2.4.4)\n",
            "Requirement already satisfied: aiosignal>=1.1.2 in /usr/local/lib/python3.10/dist-packages (from aiohttp->datasets) (1.3.2)\n",
            "Requirement already satisfied: async-timeout<6.0,>=4.0 in /usr/local/lib/python3.10/dist-packages (from aiohttp->datasets) (4.0.3)\n",
            "Requirement already satisfied: attrs>=17.3.0 in /usr/local/lib/python3.10/dist-packages (from aiohttp->datasets) (24.3.0)\n",
            "Requirement already satisfied: frozenlist>=1.1.1 in /usr/local/lib/python3.10/dist-packages (from aiohttp->datasets) (1.5.0)\n",
            "Requirement already satisfied: multidict<7.0,>=4.5 in /usr/local/lib/python3.10/dist-packages (from aiohttp->datasets) (6.1.0)\n",
            "Requirement already satisfied: propcache>=0.2.0 in /usr/local/lib/python3.10/dist-packages (from aiohttp->datasets) (0.2.1)\n",
            "Requirement already satisfied: yarl<2.0,>=1.17.0 in /usr/local/lib/python3.10/dist-packages (from aiohttp->datasets) (1.18.3)\n",
            "Requirement already satisfied: typing-extensions>=3.7.4.3 in /usr/local/lib/python3.10/dist-packages (from huggingface-hub>=0.23.0->datasets) (4.12.2)\n",
            "Requirement already satisfied: charset-normalizer<4,>=2 in /usr/local/lib/python3.10/dist-packages (from requests>=2.32.2->datasets) (3.4.0)\n",
            "Requirement already satisfied: idna<4,>=2.5 in /usr/local/lib/python3.10/dist-packages (from requests>=2.32.2->datasets) (3.10)\n",
            "Requirement already satisfied: urllib3<3,>=1.21.1 in /usr/local/lib/python3.10/dist-packages (from requests>=2.32.2->datasets) (2.2.3)\n",
            "Requirement already satisfied: certifi>=2017.4.17 in /usr/local/lib/python3.10/dist-packages (from requests>=2.32.2->datasets) (2024.12.14)\n",
            "Requirement already satisfied: python-dateutil>=2.8.2 in /usr/local/lib/python3.10/dist-packages (from pandas->datasets) (2.8.2)\n",
            "Requirement already satisfied: pytz>=2020.1 in /usr/local/lib/python3.10/dist-packages (from pandas->datasets) (2024.2)\n",
            "Requirement already satisfied: tzdata>=2022.7 in /usr/local/lib/python3.10/dist-packages (from pandas->datasets) (2024.2)\n",
            "Requirement already satisfied: six>=1.5 in /usr/local/lib/python3.10/dist-packages (from python-dateutil>=2.8.2->pandas->datasets) (1.17.0)\n",
            "Requirement already satisfied: rouge_score in /usr/local/lib/python3.10/dist-packages (0.1.2)\n",
            "Requirement already satisfied: absl-py in /usr/local/lib/python3.10/dist-packages (from rouge_score) (1.4.0)\n",
            "Requirement already satisfied: nltk in /usr/local/lib/python3.10/dist-packages (from rouge_score) (3.9.1)\n",
            "Requirement already satisfied: numpy in /usr/local/lib/python3.10/dist-packages (from rouge_score) (1.26.4)\n",
            "Requirement already satisfied: six>=1.14.0 in /usr/local/lib/python3.10/dist-packages (from rouge_score) (1.17.0)\n",
            "Requirement already satisfied: click in /usr/local/lib/python3.10/dist-packages (from nltk->rouge_score) (8.1.7)\n",
            "Requirement already satisfied: joblib in /usr/local/lib/python3.10/dist-packages (from nltk->rouge_score) (1.4.2)\n",
            "Requirement already satisfied: regex>=2021.8.3 in /usr/local/lib/python3.10/dist-packages (from nltk->rouge_score) (2024.11.6)\n",
            "Requirement already satisfied: tqdm in /usr/local/lib/python3.10/dist-packages (from nltk->rouge_score) (4.67.1)\n",
            "Requirement already satisfied: bert-score in /usr/local/lib/python3.10/dist-packages (0.3.13)\n",
            "Requirement already satisfied: torch>=1.0.0 in /usr/local/lib/python3.10/dist-packages (from bert-score) (2.5.1+cu121)\n",
            "Requirement already satisfied: pandas>=1.0.1 in /usr/local/lib/python3.10/dist-packages (from bert-score) (2.2.2)\n",
            "Requirement already satisfied: transformers>=3.0.0 in /usr/local/lib/python3.10/dist-packages (from bert-score) (4.47.0)\n",
            "Requirement already satisfied: numpy in /usr/local/lib/python3.10/dist-packages (from bert-score) (1.26.4)\n",
            "Requirement already satisfied: requests in /usr/local/lib/python3.10/dist-packages (from bert-score) (2.32.3)\n",
            "Requirement already satisfied: tqdm>=4.31.1 in /usr/local/lib/python3.10/dist-packages (from bert-score) (4.67.1)\n",
            "Requirement already satisfied: matplotlib in /usr/local/lib/python3.10/dist-packages (from bert-score) (3.8.0)\n",
            "Requirement already satisfied: packaging>=20.9 in /usr/local/lib/python3.10/dist-packages (from bert-score) (24.2)\n",
            "Requirement already satisfied: python-dateutil>=2.8.2 in /usr/local/lib/python3.10/dist-packages (from pandas>=1.0.1->bert-score) (2.8.2)\n",
            "Requirement already satisfied: pytz>=2020.1 in /usr/local/lib/python3.10/dist-packages (from pandas>=1.0.1->bert-score) (2024.2)\n",
            "Requirement already satisfied: tzdata>=2022.7 in /usr/local/lib/python3.10/dist-packages (from pandas>=1.0.1->bert-score) (2024.2)\n",
            "Requirement already satisfied: filelock in /usr/local/lib/python3.10/dist-packages (from torch>=1.0.0->bert-score) (3.16.1)\n",
            "Requirement already satisfied: typing-extensions>=4.8.0 in /usr/local/lib/python3.10/dist-packages (from torch>=1.0.0->bert-score) (4.12.2)\n",
            "Requirement already satisfied: networkx in /usr/local/lib/python3.10/dist-packages (from torch>=1.0.0->bert-score) (3.4.2)\n",
            "Requirement already satisfied: jinja2 in /usr/local/lib/python3.10/dist-packages (from torch>=1.0.0->bert-score) (3.1.4)\n",
            "Requirement already satisfied: fsspec in /usr/local/lib/python3.10/dist-packages (from torch>=1.0.0->bert-score) (2024.9.0)\n",
            "Requirement already satisfied: sympy==1.13.1 in /usr/local/lib/python3.10/dist-packages (from torch>=1.0.0->bert-score) (1.13.1)\n",
            "Requirement already satisfied: mpmath<1.4,>=1.1.0 in /usr/local/lib/python3.10/dist-packages (from sympy==1.13.1->torch>=1.0.0->bert-score) (1.3.0)\n",
            "Requirement already satisfied: huggingface-hub<1.0,>=0.24.0 in /usr/local/lib/python3.10/dist-packages (from transformers>=3.0.0->bert-score) (0.27.0)\n",
            "Requirement already satisfied: pyyaml>=5.1 in /usr/local/lib/python3.10/dist-packages (from transformers>=3.0.0->bert-score) (6.0.2)\n",
            "Requirement already satisfied: regex!=2019.12.17 in /usr/local/lib/python3.10/dist-packages (from transformers>=3.0.0->bert-score) (2024.11.6)\n",
            "Requirement already satisfied: tokenizers<0.22,>=0.21 in /usr/local/lib/python3.10/dist-packages (from transformers>=3.0.0->bert-score) (0.21.0)\n",
            "Requirement already satisfied: safetensors>=0.4.1 in /usr/local/lib/python3.10/dist-packages (from transformers>=3.0.0->bert-score) (0.4.5)\n",
            "Requirement already satisfied: contourpy>=1.0.1 in /usr/local/lib/python3.10/dist-packages (from matplotlib->bert-score) (1.3.1)\n",
            "Requirement already satisfied: cycler>=0.10 in /usr/local/lib/python3.10/dist-packages (from matplotlib->bert-score) (0.12.1)\n",
            "Requirement already satisfied: fonttools>=4.22.0 in /usr/local/lib/python3.10/dist-packages (from matplotlib->bert-score) (4.55.3)\n",
            "Requirement already satisfied: kiwisolver>=1.0.1 in /usr/local/lib/python3.10/dist-packages (from matplotlib->bert-score) (1.4.7)\n",
            "Requirement already satisfied: pillow>=6.2.0 in /usr/local/lib/python3.10/dist-packages (from matplotlib->bert-score) (11.0.0)\n",
            "Requirement already satisfied: pyparsing>=2.3.1 in /usr/local/lib/python3.10/dist-packages (from matplotlib->bert-score) (3.2.0)\n",
            "Requirement already satisfied: charset-normalizer<4,>=2 in /usr/local/lib/python3.10/dist-packages (from requests->bert-score) (3.4.0)\n",
            "Requirement already satisfied: idna<4,>=2.5 in /usr/local/lib/python3.10/dist-packages (from requests->bert-score) (3.10)\n",
            "Requirement already satisfied: urllib3<3,>=1.21.1 in /usr/local/lib/python3.10/dist-packages (from requests->bert-score) (2.2.3)\n",
            "Requirement already satisfied: certifi>=2017.4.17 in /usr/local/lib/python3.10/dist-packages (from requests->bert-score) (2024.12.14)\n",
            "Requirement already satisfied: six>=1.5 in /usr/local/lib/python3.10/dist-packages (from python-dateutil>=2.8.2->pandas>=1.0.1->bert-score) (1.17.0)\n",
            "Requirement already satisfied: MarkupSafe>=2.0 in /usr/local/lib/python3.10/dist-packages (from jinja2->torch>=1.0.0->bert-score) (3.0.2)\n",
            "Requirement already satisfied: evaluate in /usr/local/lib/python3.10/dist-packages (0.4.3)\n",
            "Requirement already satisfied: datasets>=2.0.0 in /usr/local/lib/python3.10/dist-packages (from evaluate) (3.2.0)\n",
            "Requirement already satisfied: numpy>=1.17 in /usr/local/lib/python3.10/dist-packages (from evaluate) (1.26.4)\n",
            "Requirement already satisfied: dill in /usr/local/lib/python3.10/dist-packages (from evaluate) (0.3.8)\n",
            "Requirement already satisfied: pandas in /usr/local/lib/python3.10/dist-packages (from evaluate) (2.2.2)\n",
            "Requirement already satisfied: requests>=2.19.0 in /usr/local/lib/python3.10/dist-packages (from evaluate) (2.32.3)\n",
            "Requirement already satisfied: tqdm>=4.62.1 in /usr/local/lib/python3.10/dist-packages (from evaluate) (4.67.1)\n",
            "Requirement already satisfied: xxhash in /usr/local/lib/python3.10/dist-packages (from evaluate) (3.5.0)\n",
            "Requirement already satisfied: multiprocess in /usr/local/lib/python3.10/dist-packages (from evaluate) (0.70.16)\n",
            "Requirement already satisfied: fsspec>=2021.05.0 in /usr/local/lib/python3.10/dist-packages (from fsspec[http]>=2021.05.0->evaluate) (2024.9.0)\n",
            "Requirement already satisfied: huggingface-hub>=0.7.0 in /usr/local/lib/python3.10/dist-packages (from evaluate) (0.27.0)\n",
            "Requirement already satisfied: packaging in /usr/local/lib/python3.10/dist-packages (from evaluate) (24.2)\n",
            "Requirement already satisfied: filelock in /usr/local/lib/python3.10/dist-packages (from datasets>=2.0.0->evaluate) (3.16.1)\n",
            "Requirement already satisfied: pyarrow>=15.0.0 in /usr/local/lib/python3.10/dist-packages (from datasets>=2.0.0->evaluate) (17.0.0)\n",
            "Requirement already satisfied: aiohttp in /usr/local/lib/python3.10/dist-packages (from datasets>=2.0.0->evaluate) (3.11.10)\n",
            "Requirement already satisfied: pyyaml>=5.1 in /usr/local/lib/python3.10/dist-packages (from datasets>=2.0.0->evaluate) (6.0.2)\n",
            "Requirement already satisfied: typing-extensions>=3.7.4.3 in /usr/local/lib/python3.10/dist-packages (from huggingface-hub>=0.7.0->evaluate) (4.12.2)\n",
            "Requirement already satisfied: charset-normalizer<4,>=2 in /usr/local/lib/python3.10/dist-packages (from requests>=2.19.0->evaluate) (3.4.0)\n",
            "Requirement already satisfied: idna<4,>=2.5 in /usr/local/lib/python3.10/dist-packages (from requests>=2.19.0->evaluate) (3.10)\n",
            "Requirement already satisfied: urllib3<3,>=1.21.1 in /usr/local/lib/python3.10/dist-packages (from requests>=2.19.0->evaluate) (2.2.3)\n",
            "Requirement already satisfied: certifi>=2017.4.17 in /usr/local/lib/python3.10/dist-packages (from requests>=2.19.0->evaluate) (2024.12.14)\n",
            "Requirement already satisfied: python-dateutil>=2.8.2 in /usr/local/lib/python3.10/dist-packages (from pandas->evaluate) (2.8.2)\n",
            "Requirement already satisfied: pytz>=2020.1 in /usr/local/lib/python3.10/dist-packages (from pandas->evaluate) (2024.2)\n",
            "Requirement already satisfied: tzdata>=2022.7 in /usr/local/lib/python3.10/dist-packages (from pandas->evaluate) (2024.2)\n",
            "Requirement already satisfied: aiohappyeyeballs>=2.3.0 in /usr/local/lib/python3.10/dist-packages (from aiohttp->datasets>=2.0.0->evaluate) (2.4.4)\n",
            "Requirement already satisfied: aiosignal>=1.1.2 in /usr/local/lib/python3.10/dist-packages (from aiohttp->datasets>=2.0.0->evaluate) (1.3.2)\n",
            "Requirement already satisfied: async-timeout<6.0,>=4.0 in /usr/local/lib/python3.10/dist-packages (from aiohttp->datasets>=2.0.0->evaluate) (4.0.3)\n",
            "Requirement already satisfied: attrs>=17.3.0 in /usr/local/lib/python3.10/dist-packages (from aiohttp->datasets>=2.0.0->evaluate) (24.3.0)\n",
            "Requirement already satisfied: frozenlist>=1.1.1 in /usr/local/lib/python3.10/dist-packages (from aiohttp->datasets>=2.0.0->evaluate) (1.5.0)\n",
            "Requirement already satisfied: multidict<7.0,>=4.5 in /usr/local/lib/python3.10/dist-packages (from aiohttp->datasets>=2.0.0->evaluate) (6.1.0)\n",
            "Requirement already satisfied: propcache>=0.2.0 in /usr/local/lib/python3.10/dist-packages (from aiohttp->datasets>=2.0.0->evaluate) (0.2.1)\n",
            "Requirement already satisfied: yarl<2.0,>=1.17.0 in /usr/local/lib/python3.10/dist-packages (from aiohttp->datasets>=2.0.0->evaluate) (1.18.3)\n",
            "Requirement already satisfied: six>=1.5 in /usr/local/lib/python3.10/dist-packages (from python-dateutil>=2.8.2->pandas->evaluate) (1.17.0)\n"
          ]
        }
      ]
    },
    {
      "cell_type": "code",
      "source": [
        "# importing libraries\n",
        "import pandas as pd\n",
        "import torch\n",
        "from transformers import AutoTokenizer, AutoModelForSeq2SeqLM, AdamW\n",
        "from torch.utils.data import DataLoader, Dataset\n",
        "from rouge_score import rouge_scorer\n",
        "from bert_score import score as bert_score\n",
        "import matplotlib.pyplot as plt\n",
        "from sklearn.model_selection import train_test_split\n",
        "import textwrap\n",
        "from tqdm import tqdm"
      ],
      "metadata": {
        "id": "B0VJF5kwoN_f"
      },
      "execution_count": 2,
      "outputs": []
    },
    {
      "cell_type": "markdown",
      "source": [
        "# Loading the data and Pre-processing\n",
        "\n",
        "\n"
      ],
      "metadata": {
        "id": "cXZHQOBXmgTd"
      }
    },
    {
      "cell_type": "code",
      "source": [
        "#loading the dataset\n",
        "dataset_path = \"/content/Corpus_all.csv\"\n",
        "data = pd.read_csv(dataset_path, encoding=\"ISO-8859-1\")"
      ],
      "metadata": {
        "id": "NaRvpZbhnpXw"
      },
      "execution_count": 3,
      "outputs": []
    },
    {
      "cell_type": "code",
      "source": [
        "data.head()"
      ],
      "metadata": {
        "id": "wR7iMThepL-C",
        "colab": {
          "base_uri": "https://localhost:8080/",
          "height": 226
        },
        "outputId": "70fe7bc4-c011-4c50-c323-b511c9417541"
      },
      "execution_count": 4,
      "outputs": [
        {
          "output_type": "execute_result",
          "data": {
            "text/plain": [
              "                                            Document  \\\n",
              "0  412.106.1 English is not an official language ...   \n",
              "1  944.021.1 English is not an official language ...   \n",
              "2  Title and commencement 1 This order may be cit...   \n",
              "3  Citation and commencement 1 This order may be ...   \n",
              "4  Title, commencement and interpretation 1 1 Thi...   \n",
              "\n",
              "                                             Summary  \n",
              "0  The Swiss Federal University for Vocational Ed...  \n",
              "1  The EAER Ordinance on the Declaration for Timb...  \n",
              "2  The North West Water Authority (Solway Firth) ...  \n",
              "3  The Trafford Park Development Corporation (Are...  \n",
              "4  The North West Water Authority (Returns of Eel...  "
            ],
            "text/html": [
              "\n",
              "  <div id=\"df-9722b32c-e24d-42e9-9671-7415530d6c91\" class=\"colab-df-container\">\n",
              "    <div>\n",
              "<style scoped>\n",
              "    .dataframe tbody tr th:only-of-type {\n",
              "        vertical-align: middle;\n",
              "    }\n",
              "\n",
              "    .dataframe tbody tr th {\n",
              "        vertical-align: top;\n",
              "    }\n",
              "\n",
              "    .dataframe thead th {\n",
              "        text-align: right;\n",
              "    }\n",
              "</style>\n",
              "<table border=\"1\" class=\"dataframe\">\n",
              "  <thead>\n",
              "    <tr style=\"text-align: right;\">\n",
              "      <th></th>\n",
              "      <th>Document</th>\n",
              "      <th>Summary</th>\n",
              "    </tr>\n",
              "  </thead>\n",
              "  <tbody>\n",
              "    <tr>\n",
              "      <th>0</th>\n",
              "      <td>412.106.1 English is not an official language ...</td>\n",
              "      <td>The Swiss Federal University for Vocational Ed...</td>\n",
              "    </tr>\n",
              "    <tr>\n",
              "      <th>1</th>\n",
              "      <td>944.021.1 English is not an official language ...</td>\n",
              "      <td>The EAER Ordinance on the Declaration for Timb...</td>\n",
              "    </tr>\n",
              "    <tr>\n",
              "      <th>2</th>\n",
              "      <td>Title and commencement 1 This order may be cit...</td>\n",
              "      <td>The North West Water Authority (Solway Firth) ...</td>\n",
              "    </tr>\n",
              "    <tr>\n",
              "      <th>3</th>\n",
              "      <td>Citation and commencement 1 This order may be ...</td>\n",
              "      <td>The Trafford Park Development Corporation (Are...</td>\n",
              "    </tr>\n",
              "    <tr>\n",
              "      <th>4</th>\n",
              "      <td>Title, commencement and interpretation 1 1 Thi...</td>\n",
              "      <td>The North West Water Authority (Returns of Eel...</td>\n",
              "    </tr>\n",
              "  </tbody>\n",
              "</table>\n",
              "</div>\n",
              "    <div class=\"colab-df-buttons\">\n",
              "\n",
              "  <div class=\"colab-df-container\">\n",
              "    <button class=\"colab-df-convert\" onclick=\"convertToInteractive('df-9722b32c-e24d-42e9-9671-7415530d6c91')\"\n",
              "            title=\"Convert this dataframe to an interactive table.\"\n",
              "            style=\"display:none;\">\n",
              "\n",
              "  <svg xmlns=\"http://www.w3.org/2000/svg\" height=\"24px\" viewBox=\"0 -960 960 960\">\n",
              "    <path d=\"M120-120v-720h720v720H120Zm60-500h600v-160H180v160Zm220 220h160v-160H400v160Zm0 220h160v-160H400v160ZM180-400h160v-160H180v160Zm440 0h160v-160H620v160ZM180-180h160v-160H180v160Zm440 0h160v-160H620v160Z\"/>\n",
              "  </svg>\n",
              "    </button>\n",
              "\n",
              "  <style>\n",
              "    .colab-df-container {\n",
              "      display:flex;\n",
              "      gap: 12px;\n",
              "    }\n",
              "\n",
              "    .colab-df-convert {\n",
              "      background-color: #E8F0FE;\n",
              "      border: none;\n",
              "      border-radius: 50%;\n",
              "      cursor: pointer;\n",
              "      display: none;\n",
              "      fill: #1967D2;\n",
              "      height: 32px;\n",
              "      padding: 0 0 0 0;\n",
              "      width: 32px;\n",
              "    }\n",
              "\n",
              "    .colab-df-convert:hover {\n",
              "      background-color: #E2EBFA;\n",
              "      box-shadow: 0px 1px 2px rgba(60, 64, 67, 0.3), 0px 1px 3px 1px rgba(60, 64, 67, 0.15);\n",
              "      fill: #174EA6;\n",
              "    }\n",
              "\n",
              "    .colab-df-buttons div {\n",
              "      margin-bottom: 4px;\n",
              "    }\n",
              "\n",
              "    [theme=dark] .colab-df-convert {\n",
              "      background-color: #3B4455;\n",
              "      fill: #D2E3FC;\n",
              "    }\n",
              "\n",
              "    [theme=dark] .colab-df-convert:hover {\n",
              "      background-color: #434B5C;\n",
              "      box-shadow: 0px 1px 3px 1px rgba(0, 0, 0, 0.15);\n",
              "      filter: drop-shadow(0px 1px 2px rgba(0, 0, 0, 0.3));\n",
              "      fill: #FFFFFF;\n",
              "    }\n",
              "  </style>\n",
              "\n",
              "    <script>\n",
              "      const buttonEl =\n",
              "        document.querySelector('#df-9722b32c-e24d-42e9-9671-7415530d6c91 button.colab-df-convert');\n",
              "      buttonEl.style.display =\n",
              "        google.colab.kernel.accessAllowed ? 'block' : 'none';\n",
              "\n",
              "      async function convertToInteractive(key) {\n",
              "        const element = document.querySelector('#df-9722b32c-e24d-42e9-9671-7415530d6c91');\n",
              "        const dataTable =\n",
              "          await google.colab.kernel.invokeFunction('convertToInteractive',\n",
              "                                                    [key], {});\n",
              "        if (!dataTable) return;\n",
              "\n",
              "        const docLinkHtml = 'Like what you see? Visit the ' +\n",
              "          '<a target=\"_blank\" href=https://colab.research.google.com/notebooks/data_table.ipynb>data table notebook</a>'\n",
              "          + ' to learn more about interactive tables.';\n",
              "        element.innerHTML = '';\n",
              "        dataTable['output_type'] = 'display_data';\n",
              "        await google.colab.output.renderOutput(dataTable, element);\n",
              "        const docLink = document.createElement('div');\n",
              "        docLink.innerHTML = docLinkHtml;\n",
              "        element.appendChild(docLink);\n",
              "      }\n",
              "    </script>\n",
              "  </div>\n",
              "\n",
              "\n",
              "<div id=\"df-c8f4df15-7a99-47b9-85c0-6fbb504b76d1\">\n",
              "  <button class=\"colab-df-quickchart\" onclick=\"quickchart('df-c8f4df15-7a99-47b9-85c0-6fbb504b76d1')\"\n",
              "            title=\"Suggest charts\"\n",
              "            style=\"display:none;\">\n",
              "\n",
              "<svg xmlns=\"http://www.w3.org/2000/svg\" height=\"24px\"viewBox=\"0 0 24 24\"\n",
              "     width=\"24px\">\n",
              "    <g>\n",
              "        <path d=\"M19 3H5c-1.1 0-2 .9-2 2v14c0 1.1.9 2 2 2h14c1.1 0 2-.9 2-2V5c0-1.1-.9-2-2-2zM9 17H7v-7h2v7zm4 0h-2V7h2v10zm4 0h-2v-4h2v4z\"/>\n",
              "    </g>\n",
              "</svg>\n",
              "  </button>\n",
              "\n",
              "<style>\n",
              "  .colab-df-quickchart {\n",
              "      --bg-color: #E8F0FE;\n",
              "      --fill-color: #1967D2;\n",
              "      --hover-bg-color: #E2EBFA;\n",
              "      --hover-fill-color: #174EA6;\n",
              "      --disabled-fill-color: #AAA;\n",
              "      --disabled-bg-color: #DDD;\n",
              "  }\n",
              "\n",
              "  [theme=dark] .colab-df-quickchart {\n",
              "      --bg-color: #3B4455;\n",
              "      --fill-color: #D2E3FC;\n",
              "      --hover-bg-color: #434B5C;\n",
              "      --hover-fill-color: #FFFFFF;\n",
              "      --disabled-bg-color: #3B4455;\n",
              "      --disabled-fill-color: #666;\n",
              "  }\n",
              "\n",
              "  .colab-df-quickchart {\n",
              "    background-color: var(--bg-color);\n",
              "    border: none;\n",
              "    border-radius: 50%;\n",
              "    cursor: pointer;\n",
              "    display: none;\n",
              "    fill: var(--fill-color);\n",
              "    height: 32px;\n",
              "    padding: 0;\n",
              "    width: 32px;\n",
              "  }\n",
              "\n",
              "  .colab-df-quickchart:hover {\n",
              "    background-color: var(--hover-bg-color);\n",
              "    box-shadow: 0 1px 2px rgba(60, 64, 67, 0.3), 0 1px 3px 1px rgba(60, 64, 67, 0.15);\n",
              "    fill: var(--button-hover-fill-color);\n",
              "  }\n",
              "\n",
              "  .colab-df-quickchart-complete:disabled,\n",
              "  .colab-df-quickchart-complete:disabled:hover {\n",
              "    background-color: var(--disabled-bg-color);\n",
              "    fill: var(--disabled-fill-color);\n",
              "    box-shadow: none;\n",
              "  }\n",
              "\n",
              "  .colab-df-spinner {\n",
              "    border: 2px solid var(--fill-color);\n",
              "    border-color: transparent;\n",
              "    border-bottom-color: var(--fill-color);\n",
              "    animation:\n",
              "      spin 1s steps(1) infinite;\n",
              "  }\n",
              "\n",
              "  @keyframes spin {\n",
              "    0% {\n",
              "      border-color: transparent;\n",
              "      border-bottom-color: var(--fill-color);\n",
              "      border-left-color: var(--fill-color);\n",
              "    }\n",
              "    20% {\n",
              "      border-color: transparent;\n",
              "      border-left-color: var(--fill-color);\n",
              "      border-top-color: var(--fill-color);\n",
              "    }\n",
              "    30% {\n",
              "      border-color: transparent;\n",
              "      border-left-color: var(--fill-color);\n",
              "      border-top-color: var(--fill-color);\n",
              "      border-right-color: var(--fill-color);\n",
              "    }\n",
              "    40% {\n",
              "      border-color: transparent;\n",
              "      border-right-color: var(--fill-color);\n",
              "      border-top-color: var(--fill-color);\n",
              "    }\n",
              "    60% {\n",
              "      border-color: transparent;\n",
              "      border-right-color: var(--fill-color);\n",
              "    }\n",
              "    80% {\n",
              "      border-color: transparent;\n",
              "      border-right-color: var(--fill-color);\n",
              "      border-bottom-color: var(--fill-color);\n",
              "    }\n",
              "    90% {\n",
              "      border-color: transparent;\n",
              "      border-bottom-color: var(--fill-color);\n",
              "    }\n",
              "  }\n",
              "</style>\n",
              "\n",
              "  <script>\n",
              "    async function quickchart(key) {\n",
              "      const quickchartButtonEl =\n",
              "        document.querySelector('#' + key + ' button');\n",
              "      quickchartButtonEl.disabled = true;  // To prevent multiple clicks.\n",
              "      quickchartButtonEl.classList.add('colab-df-spinner');\n",
              "      try {\n",
              "        const charts = await google.colab.kernel.invokeFunction(\n",
              "            'suggestCharts', [key], {});\n",
              "      } catch (error) {\n",
              "        console.error('Error during call to suggestCharts:', error);\n",
              "      }\n",
              "      quickchartButtonEl.classList.remove('colab-df-spinner');\n",
              "      quickchartButtonEl.classList.add('colab-df-quickchart-complete');\n",
              "    }\n",
              "    (() => {\n",
              "      let quickchartButtonEl =\n",
              "        document.querySelector('#df-c8f4df15-7a99-47b9-85c0-6fbb504b76d1 button');\n",
              "      quickchartButtonEl.style.display =\n",
              "        google.colab.kernel.accessAllowed ? 'block' : 'none';\n",
              "    })();\n",
              "  </script>\n",
              "</div>\n",
              "\n",
              "    </div>\n",
              "  </div>\n"
            ],
            "application/vnd.google.colaboratory.intrinsic+json": {
              "type": "dataframe",
              "variable_name": "data",
              "summary": "{\n  \"name\": \"data\",\n  \"rows\": 60,\n  \"fields\": [\n    {\n      \"column\": \"Document\",\n      \"properties\": {\n        \"dtype\": \"string\",\n        \"num_unique_values\": 60,\n        \"samples\": [\n          \"412.106.1 English is not an official language of the Swiss Confederation. This translation is provided for information purposes only, has no legal force and may not be relied on in legal proceedings. Ordinance on the Swiss Federal University for Vocational Education and Training(SFUVET Ordinance)of 18 June 2021 (Status as of 1 August 2021)The Swiss Federal Council,on the basis of Article 35 of the SFUVET Act of 25 September 20201,ordains:1 SR 412.106Art. 1 Registered location The Swiss Federal University for Vocational Education and Training (SFUVET) shall be based in Zollikofen.Art. 2 Regional campuses SFUVET shall offer its services through three regional campuses: one in the German-speaking region, one in the French-speaking region and one in the Italian-speaking region of Switzerland.Art. 3 Federal Council's strategic objectives The Federal Department of Economic Affairs, Education and Research (EAER) shall submit SFUVET's strategic objectives drafted by the Federal Council to the following national umbrella organisations for consultation: the Swiss Union of Crafts and Small and Medium-sized Enterprises (SGV), the Swiss Employers' Association (SAV), the Swiss Trade Union Confederation (SGB) and Travail Suisse.Art. 4 SFUVET partnership dynamics with professional organisations and cantonal authorities 1 SFUVET shall involve professional organisations and the cantonal authorities in its strategic planning activities, in the planning of new training courses and services, and in the creation of research areas.2 It may form national and regional advisory boards comprising representatives of professional organisations, cantonal authorities and other interested parties.Art. 5 Repeal and amendment of current legislation 1 The SFIVET Ordinance of 14 September 20052 is repealed.2 ...32 [AS 2005 4607; 2009 5933; 2016 575]3 The amendments may be consulted under AS 2021 405.Art. 6 Transitional provisions Articles 16 and 16a of the SFIVET Ordinance of 14 September 20054 shall remain in force until 31 December 2021.4 AS 2016 575Art. 7 Commencement 1 Subject to paragraph 2, this Ordinance comes into force on 1 August 2021.2 Article 5 paragraph 2 comes into force on 1 January 2022.\",\n          \"This Order may be cited as the Data Protection (Miscellaneous Subject Access Exemptions) Order 1987 and shall come into force on 11th November 1987. In this Order \\u0093the subject access provisions\\u0094 has the meaning which it has for the purposes of Part IV of the Data Protection Act 1984 . There shall be exempted from the subject access provisions any personal data consisting of information the disclosure of which is prohibited or restricted by the enactments and instruments listed in the Schedule to this Order, being enactments and instruments which impose prohibitions or restrictions on disclosure which ought to prevail over those provisions in the interests of data subjects or of other individuals. Douglas Hurd One of Her Majesty\\u0092s Principal Secretaries of State Home Office 9th November 1987\",\n          \"Federal Act on the Recognition of Private Agreements for the Avoidance of Double Taxation with respect to Taxes on Income and on Capitalof 17 June 2011 (Status as of 15 November 2011)The Federal Assembly of the Swiss Confederation,on the basis of Article 54 paragraph 1 of the Federal Constitution1, and having considered the Federal Council Dispatch dated 18 August 20102,decrees:1 SR 1012 BBl 2010 5549Art. 1 Subject of recognition The Federal Council is authorised to recognise agreements between private institutions for the avoidance of double taxation with respect to taxes on income and on capital, provided the conclusion of an international treaty on the same matter is not an option.Art. 2 Requirements The recognition of an agreement under Article 1 requires that:a.reciprocity is guaranteed;b.the agreement is compatible with Switzerland\\u0092s agreement policy for the avoidance of double taxation; andc.the competent committees of the National Council and of the Council of States have agreed to recognition; if the committees do not both agree to recognition, Article 95 of the Parliament Act of 13 December 20023 shall be applied by analogy.3 SR 171.10Art. 3 Withdrawal of recognition The Federal Council may withdraw its recognition of an agreement at any time if:a.reciprocity is no longer guaranteed; b.the agreement has been infringed in a serious manner; orc.withdrawal of recognition is required to safeguard Switzerland\\u0092s interests.Art. 4 Scope of application Once recognised by the Federal Council, an agreement applies throughout Switzerland.Art. 5 Publication 1 Any decision of the Federal Council on recognition or withdrawal of recognition shall be published in the Federal Gazette.2 The agreement shall be published with the decision on recognition.Art. 6 Referendum and commencement 1 This Act is subject to an optional referendum.2 The Federal Council shall determine the commencement date.Commencement date: 15 November 201144 FCD of 9 Nov\"\n        ],\n        \"semantic_type\": \"\",\n        \"description\": \"\"\n      }\n    },\n    {\n      \"column\": \"Summary\",\n      \"properties\": {\n        \"dtype\": \"string\",\n        \"num_unique_values\": 60,\n        \"samples\": [\n          \"The Swiss Federal University for Vocational Education and Training (SFUVET) is based in Zollikofen and has 3 campuses in Switzerland. These campuses are separated by the language spoken in the region, which are German, French, and Italilan. It colabortates with industry groups and regional authorities to plan courses, services, and research. The government sets their goals and consults with national organikzations like trade unions and employers associations. Old rules have been replaced on August 1, 2021, but a few parts will continue to be active until the end of 2021.\",\n          \"The Data Protection (Miscellaneous Subject Access Exemptions) Order 1987 exempts certain personal data from the right of access under Part IV of the Data Protection Act 1984. This applies to data where disclosure is restricted or prohibited by specific laws listed in the schedule to the order. These restrictions are intended to protect the interests of individuals or others. The order comes into effect on November 11, 1987.\",\n          \"This Act grants the Federal Council the authority to recognize private agreements between institutions for the avoidance of double taxation on income and capital, when an international treaty on the same issue is not feasible. Recognition of such agreements requires reciprocity, alignment with Switzerland\\u0092s tax policy, and approval from both the National Council and the Council of States. The Federal Council may withdraw recognition if reciprocity is no longer guaranteed, if the agreement is seriously violated, or if withdrawal is necessary to protect Switzerland\\u0092s interests. Once recognized, the agreement applies nationwide. The decision and the agreement are published in the Federal Gazette. This Act is subject to an optional referendum, and the Federal Council determines its commencement date, which was set as 15 November 2011.\"\n        ],\n        \"semantic_type\": \"\",\n        \"description\": \"\"\n      }\n    }\n  ]\n}"
            }
          },
          "metadata": {},
          "execution_count": 4
        }
      ]
    },
    {
      "cell_type": "code",
      "source": [
        "\n",
        "# putting the text and summaries into the containers\n",
        "input_texts = data[\"Document\"].tolist()\n",
        "target_texts = data[\"Summary\"].tolist()"
      ],
      "metadata": {
        "id": "2Ip6PiVDnu0k"
      },
      "execution_count": 5,
      "outputs": []
    },
    {
      "cell_type": "code",
      "source": [
        "# taking a look at the first index\n",
        "print(input_texts[0])\n",
        "print(target_texts[0])"
      ],
      "metadata": {
        "id": "l9PrfHiJpa_i",
        "colab": {
          "base_uri": "https://localhost:8080/"
        },
        "outputId": "a741cbd4-cdcc-4ab9-901c-0f93f856e50b"
      },
      "execution_count": 6,
      "outputs": [
        {
          "output_type": "stream",
          "name": "stdout",
          "text": [
            "412.106.1 English is not an official language of the Swiss Confederation. This translation is provided for information purposes only, has no legal force and may not be relied on in legal proceedings. Ordinance on the Swiss Federal University for Vocational Education and Training(SFUVET Ordinance)of 18 June 2021 (Status as of 1 August 2021)The Swiss Federal Council,on the basis of Article 35 of the SFUVET Act of 25 September 20201,ordains:1 SR 412.106Art. 1 Registered location The Swiss Federal University for Vocational Education and Training (SFUVET) shall be based in Zollikofen.Art. 2 Regional campuses SFUVET shall offer its services through three regional campuses: one in the German-speaking region, one in the French-speaking region and one in the Italian-speaking region of Switzerland.Art. 3 Federal Council's strategic objectives The Federal Department of Economic Affairs, Education and Research (EAER) shall submit SFUVET's strategic objectives drafted by the Federal Council to the following national umbrella organisations for consultation: the Swiss Union of Crafts and Small and Medium-sized Enterprises (SGV), the Swiss Employers' Association (SAV), the Swiss Trade Union Confederation (SGB) and Travail Suisse.Art. 4 SFUVET partnership dynamics with professional organisations and cantonal authorities 1 SFUVET shall involve professional organisations and the cantonal authorities in its strategic planning activities, in the planning of new training courses and services, and in the creation of research areas.2 It may form national and regional advisory boards comprising representatives of professional organisations, cantonal authorities and other interested parties.Art. 5 Repeal and amendment of current legislation 1 The SFIVET Ordinance of 14 September 20052 is repealed.2 ...32 [AS 2005 4607; 2009 5933; 2016 575]3 The amendments may be consulted under AS 2021 405.Art. 6 Transitional provisions Articles 16 and 16a of the SFIVET Ordinance of 14 September 20054 shall remain in force until 31 December 2021.4 AS 2016 575Art. 7 Commencement 1 Subject to paragraph 2, this Ordinance comes into force on 1 August 2021.2 Article 5 paragraph 2 comes into force on 1 January 2022.\n",
            "The Swiss Federal University for Vocational Education and Training (SFUVET) is based in Zollikofen and has 3 campuses in Switzerland. These campuses are separated by the language spoken in the region, which are German, French, and Italilan. It colabortates with industry groups and regional authorities to plan courses, services, and research. The government sets their goals and consults with national organikzations like trade unions and employers associations. Old rules have been replaced on August 1, 2021, but a few parts will continue to be active until the end of 2021.\n"
          ]
        }
      ]
    },
    {
      "cell_type": "code",
      "source": [
        "#initialize the tokenizer and model\n",
        "tokenizer = AutoTokenizer.from_pretrained(\"google/flan-t5-small\")\n",
        "model = AutoModelForSeq2SeqLM.from_pretrained(\"google/flan-t5-small\")"
      ],
      "metadata": {
        "id": "WlOKVeAPnz4s",
        "colab": {
          "base_uri": "https://localhost:8080/"
        },
        "outputId": "ce850731-4136-4286-8617-3d28ee221096"
      },
      "execution_count": 7,
      "outputs": [
        {
          "output_type": "stream",
          "name": "stderr",
          "text": [
            "/usr/local/lib/python3.10/dist-packages/huggingface_hub/utils/_auth.py:94: UserWarning: \n",
            "The secret `HF_TOKEN` does not exist in your Colab secrets.\n",
            "To authenticate with the Hugging Face Hub, create a token in your settings tab (https://huggingface.co/settings/tokens), set it as secret in your Google Colab and restart your session.\n",
            "You will be able to reuse this secret in all of your notebooks.\n",
            "Please note that authentication is recommended but still optional to access public models or datasets.\n",
            "  warnings.warn(\n"
          ]
        }
      ]
    },
    {
      "cell_type": "code",
      "source": [
        "#define the custom dataset class\n",
        "\n",
        "class CustomDataset(Dataset):\n",
        "    def __init__(self, tokenizer, input_texts, target_texts, max_input_length=512, max_target_length=128):\n",
        "        self.tokenizer = tokenizer\n",
        "        self.input_texts = input_texts\n",
        "        self.target_texts = target_texts\n",
        "        self.max_input_length = max_input_length\n",
        "        self.max_target_length = max_target_length\n",
        "\n",
        "    def __len__(self):\n",
        "        return len(self.input_texts)\n",
        "\n",
        "    def __getitem__(self, idx):\n",
        "        input_encoding = self.tokenizer(\n",
        "            self.input_texts[idx],\n",
        "            max_length=self.max_input_length,\n",
        "            padding=\"max_length\",\n",
        "            truncation=True,\n",
        "            return_tensors=\"pt\",\n",
        "        )\n",
        "        target_encoding = self.tokenizer(\n",
        "            self.target_texts[idx],\n",
        "            max_length=self.max_target_length,\n",
        "            padding=\"max_length\",\n",
        "            truncation=True,\n",
        "            return_tensors=\"pt\",\n",
        "        )\n",
        "        return {\n",
        "            \"input_ids\": input_encoding[\"input_ids\"].squeeze(),\n",
        "            \"attention_mask\": input_encoding[\"attention_mask\"].squeeze(),\n",
        "            \"labels\": target_encoding[\"input_ids\"].squeeze(),\n",
        "        }\n",
        "\n"
      ],
      "metadata": {
        "id": "o1NKTA51n4M3"
      },
      "execution_count": 8,
      "outputs": []
    },
    {
      "cell_type": "code",
      "source": [
        "# Split the dataset into training and testing sets\n",
        "train_input_texts, test_input_texts, train_target_texts, test_target_texts = train_test_split(\n",
        "    input_texts, target_texts, test_size=0.1, random_state=42\n",
        ")\n",
        "\n",
        "# Create datasets for train, validation, and test\n",
        "train_dataset = CustomDataset(tokenizer, train_input_texts, train_target_texts)\n",
        "test_dataset = CustomDataset(tokenizer, test_input_texts, test_target_texts)\n",
        "\n",
        "batch_size = 32\n",
        "# Create DataLoaders\n",
        "train_dataloader = DataLoader(train_dataset, batch_size=batch_size, shuffle=True)\n",
        "test_dataloader = DataLoader(test_dataset, batch_size=batch_size, shuffle=False)\n"
      ],
      "metadata": {
        "id": "egfSUwfvQu8A"
      },
      "execution_count": 9,
      "outputs": []
    },
    {
      "cell_type": "markdown",
      "source": [
        "## Model training"
      ],
      "metadata": {
        "id": "nyLDEZR5xLJX"
      }
    },
    {
      "cell_type": "code",
      "source": [
        "#set up training\n",
        "device = torch.device(\"cuda\" if torch.cuda.is_available() else \"cpu\")\n",
        "model = model.to(device)\n",
        "optimizer = AdamW(model.parameters(), lr=5e-5)"
      ],
      "metadata": {
        "id": "mSN856rPn7pV",
        "colab": {
          "base_uri": "https://localhost:8080/"
        },
        "outputId": "5bb5c8f6-e01f-4643-c361-c0fa6c5e63b5"
      },
      "execution_count": 10,
      "outputs": [
        {
          "output_type": "stream",
          "name": "stderr",
          "text": [
            "/usr/local/lib/python3.10/dist-packages/transformers/optimization.py:591: FutureWarning: This implementation of AdamW is deprecated and will be removed in a future version. Use the PyTorch implementation torch.optim.AdamW instead, or set `no_deprecation_warning=True` to disable this warning\n",
            "  warnings.warn(\n"
          ]
        }
      ]
    },
    {
      "cell_type": "code",
      "source": [
        "#training loop\n",
        "loss = float('inf')\n",
        "\n",
        "epochs = 65\n",
        "\n",
        "train_loss = []\n",
        "validation_loss = []\n",
        "\n",
        "model.train()\n",
        "for epoch in range(epochs):\n",
        "    epoch_loss = 0\n",
        "    for batch in train_dataloader:\n",
        "        optimizer.zero_grad()\n",
        "\n",
        "        input_ids = batch[\"input_ids\"].to(device)\n",
        "        attention_mask = batch[\"attention_mask\"].to(device)\n",
        "        labels = batch[\"labels\"].to(device)\n",
        "\n",
        "        outputs = model(input_ids=input_ids, attention_mask=attention_mask, labels=labels)\n",
        "        loss = outputs.loss\n",
        "        epoch_loss += loss.item()\n",
        "\n",
        "        loss.backward()\n",
        "        optimizer.step()\n",
        "    train_loss.append(epoch_loss / len(train_dataloader))\n",
        "    print(f\"Epoch {epoch + 1}/{epochs}, Loss: {epoch_loss / len(train_dataloader)}\")\n",
        "\n",
        "    model.eval()\n",
        "    val_loss = 0\n",
        "    with torch.no_grad():\n",
        "        for batch in test_dataloader:\n",
        "            input_ids = batch[\"input_ids\"].to(device)\n",
        "            attention_mask = batch[\"attention_mask\"].to(device)\n",
        "            labels = batch[\"labels\"].to(device)\n",
        "            outputs = model(input_ids=input_ids, attention_mask=attention_mask, labels=labels)\n",
        "            loss = outputs.loss\n",
        "            val_loss += loss.item()\n",
        "    validation_loss.append(val_loss / len(test_dataloader))\n",
        "    print(f\"Epoch {epoch + 1}/{epochs}, Validation Loss: {val_loss / len(test_dataloader)}\")"
      ],
      "metadata": {
        "id": "FqmGOqi7n_m1",
        "colab": {
          "base_uri": "https://localhost:8080/"
        },
        "outputId": "7ba2a16c-c986-43f2-a4b6-14c452d4848b"
      },
      "execution_count": 11,
      "outputs": [
        {
          "output_type": "stream",
          "name": "stderr",
          "text": [
            "Passing a tuple of `past_key_values` is deprecated and will be removed in Transformers v4.48.0. You should pass an instance of `EncoderDecoderCache` instead, e.g. `past_key_values=EncoderDecoderCache.from_legacy_cache(past_key_values)`.\n"
          ]
        },
        {
          "output_type": "stream",
          "name": "stdout",
          "text": [
            "Epoch 1/65, Loss: 7.358024597167969\n",
            "Epoch 1/65, Validation Loss: 4.955554485321045\n",
            "Epoch 2/65, Loss: 6.439593553543091\n",
            "Epoch 2/65, Validation Loss: 4.693390369415283\n",
            "Epoch 3/65, Loss: 6.013429641723633\n",
            "Epoch 3/65, Validation Loss: 4.457711219787598\n",
            "Epoch 4/65, Loss: 5.6314544677734375\n",
            "Epoch 4/65, Validation Loss: 4.248648166656494\n",
            "Epoch 5/65, Loss: 5.530635356903076\n",
            "Epoch 5/65, Validation Loss: 4.063544273376465\n",
            "Epoch 6/65, Loss: 5.192427635192871\n",
            "Epoch 6/65, Validation Loss: 3.8855931758880615\n",
            "Epoch 7/65, Loss: 4.904496669769287\n",
            "Epoch 7/65, Validation Loss: 3.717493772506714\n",
            "Epoch 8/65, Loss: 4.778454780578613\n",
            "Epoch 8/65, Validation Loss: 3.558664560317993\n",
            "Epoch 9/65, Loss: 4.235716104507446\n",
            "Epoch 9/65, Validation Loss: 3.4164607524871826\n",
            "Epoch 10/65, Loss: 4.21382462978363\n",
            "Epoch 10/65, Validation Loss: 3.2920055389404297\n",
            "Epoch 11/65, Loss: 3.856784224510193\n",
            "Epoch 11/65, Validation Loss: 3.1806490421295166\n",
            "Epoch 12/65, Loss: 3.692013382911682\n",
            "Epoch 12/65, Validation Loss: 3.089461326599121\n",
            "Epoch 13/65, Loss: 3.4952014684677124\n",
            "Epoch 13/65, Validation Loss: 3.026660919189453\n",
            "Epoch 14/65, Loss: 3.4646809101104736\n",
            "Epoch 14/65, Validation Loss: 2.987879753112793\n",
            "Epoch 15/65, Loss: 3.279845952987671\n",
            "Epoch 15/65, Validation Loss: 2.960240125656128\n",
            "Epoch 16/65, Loss: 3.2066590785980225\n",
            "Epoch 16/65, Validation Loss: 2.9347565174102783\n",
            "Epoch 17/65, Loss: 3.2222381830215454\n",
            "Epoch 17/65, Validation Loss: 2.9064483642578125\n",
            "Epoch 18/65, Loss: 3.096586227416992\n",
            "Epoch 18/65, Validation Loss: 2.8749496936798096\n",
            "Epoch 19/65, Loss: 3.0708731412887573\n",
            "Epoch 19/65, Validation Loss: 2.8444337844848633\n",
            "Epoch 20/65, Loss: 3.0447579622268677\n",
            "Epoch 20/65, Validation Loss: 2.8161609172821045\n",
            "Epoch 21/65, Loss: 2.9788163900375366\n",
            "Epoch 21/65, Validation Loss: 2.789008140563965\n",
            "Epoch 22/65, Loss: 2.959229350090027\n",
            "Epoch 22/65, Validation Loss: 2.7628629207611084\n",
            "Epoch 23/65, Loss: 2.925323486328125\n",
            "Epoch 23/65, Validation Loss: 2.7374494075775146\n",
            "Epoch 24/65, Loss: 2.8461861610412598\n",
            "Epoch 24/65, Validation Loss: 2.7130916118621826\n",
            "Epoch 25/65, Loss: 2.773249387741089\n",
            "Epoch 25/65, Validation Loss: 2.6893527507781982\n",
            "Epoch 26/65, Loss: 2.7545666694641113\n",
            "Epoch 26/65, Validation Loss: 2.666736364364624\n",
            "Epoch 27/65, Loss: 2.677865982055664\n",
            "Epoch 27/65, Validation Loss: 2.645033597946167\n",
            "Epoch 28/65, Loss: 2.6248650550842285\n",
            "Epoch 28/65, Validation Loss: 2.6239752769470215\n",
            "Epoch 29/65, Loss: 2.6584872007369995\n",
            "Epoch 29/65, Validation Loss: 2.603492259979248\n",
            "Epoch 30/65, Loss: 2.5834708213806152\n",
            "Epoch 30/65, Validation Loss: 2.5825374126434326\n",
            "Epoch 31/65, Loss: 2.5111801624298096\n",
            "Epoch 31/65, Validation Loss: 2.562291383743286\n",
            "Epoch 32/65, Loss: 2.520196318626404\n",
            "Epoch 32/65, Validation Loss: 2.545086622238159\n",
            "Epoch 33/65, Loss: 2.46941876411438\n",
            "Epoch 33/65, Validation Loss: 2.5285871028900146\n",
            "Epoch 34/65, Loss: 2.4573421478271484\n",
            "Epoch 34/65, Validation Loss: 2.511715888977051\n",
            "Epoch 35/65, Loss: 2.4378029108047485\n",
            "Epoch 35/65, Validation Loss: 2.4970037937164307\n",
            "Epoch 36/65, Loss: 2.4008078575134277\n",
            "Epoch 36/65, Validation Loss: 2.4864065647125244\n",
            "Epoch 37/65, Loss: 2.329601526260376\n",
            "Epoch 37/65, Validation Loss: 2.4770257472991943\n",
            "Epoch 38/65, Loss: 2.3187674283981323\n",
            "Epoch 38/65, Validation Loss: 2.4662020206451416\n",
            "Epoch 39/65, Loss: 2.325233817100525\n",
            "Epoch 39/65, Validation Loss: 2.455596685409546\n",
            "Epoch 40/65, Loss: 2.2628583908081055\n",
            "Epoch 40/65, Validation Loss: 2.447749137878418\n",
            "Epoch 41/65, Loss: 2.262687563896179\n",
            "Epoch 41/65, Validation Loss: 2.4412319660186768\n",
            "Epoch 42/65, Loss: 2.2459557056427\n",
            "Epoch 42/65, Validation Loss: 2.434422016143799\n",
            "Epoch 43/65, Loss: 2.1805927753448486\n",
            "Epoch 43/65, Validation Loss: 2.4271328449249268\n",
            "Epoch 44/65, Loss: 2.148914873600006\n",
            "Epoch 44/65, Validation Loss: 2.420607328414917\n",
            "Epoch 45/65, Loss: 2.180045247077942\n",
            "Epoch 45/65, Validation Loss: 2.4152300357818604\n",
            "Epoch 46/65, Loss: 2.1302177906036377\n",
            "Epoch 46/65, Validation Loss: 2.4103024005889893\n",
            "Epoch 47/65, Loss: 2.1269112825393677\n",
            "Epoch 47/65, Validation Loss: 2.404597520828247\n",
            "Epoch 48/65, Loss: 2.115800619125366\n",
            "Epoch 48/65, Validation Loss: 2.398512601852417\n",
            "Epoch 49/65, Loss: 2.0824971199035645\n",
            "Epoch 49/65, Validation Loss: 2.3928072452545166\n",
            "Epoch 50/65, Loss: 2.067056715488434\n",
            "Epoch 50/65, Validation Loss: 2.3886961936950684\n",
            "Epoch 51/65, Loss: 2.0158798694610596\n",
            "Epoch 51/65, Validation Loss: 2.383610248565674\n",
            "Epoch 52/65, Loss: 1.9842231273651123\n",
            "Epoch 52/65, Validation Loss: 2.3782730102539062\n",
            "Epoch 53/65, Loss: 1.9584053754806519\n",
            "Epoch 53/65, Validation Loss: 2.3739778995513916\n",
            "Epoch 54/65, Loss: 1.960006833076477\n",
            "Epoch 54/65, Validation Loss: 2.3710196018218994\n",
            "Epoch 55/65, Loss: 1.9189003705978394\n",
            "Epoch 55/65, Validation Loss: 2.366687536239624\n",
            "Epoch 56/65, Loss: 1.8934671878814697\n",
            "Epoch 56/65, Validation Loss: 2.36244797706604\n",
            "Epoch 57/65, Loss: 1.8750646710395813\n",
            "Epoch 57/65, Validation Loss: 2.3598995208740234\n",
            "Epoch 58/65, Loss: 1.8255343437194824\n",
            "Epoch 58/65, Validation Loss: 2.3554365634918213\n",
            "Epoch 59/65, Loss: 1.8085392713546753\n",
            "Epoch 59/65, Validation Loss: 2.349485158920288\n",
            "Epoch 60/65, Loss: 1.7896368503570557\n",
            "Epoch 60/65, Validation Loss: 2.346039295196533\n",
            "Epoch 61/65, Loss: 1.7506160736083984\n",
            "Epoch 61/65, Validation Loss: 2.344355821609497\n",
            "Epoch 62/65, Loss: 1.7157329320907593\n",
            "Epoch 62/65, Validation Loss: 2.340768575668335\n",
            "Epoch 63/65, Loss: 1.6869548559188843\n",
            "Epoch 63/65, Validation Loss: 2.336540699005127\n",
            "Epoch 64/65, Loss: 1.6752800941467285\n",
            "Epoch 64/65, Validation Loss: 2.3353517055511475\n",
            "Epoch 65/65, Loss: 1.6685436964035034\n",
            "Epoch 65/65, Validation Loss: 2.3366448879241943\n"
          ]
        }
      ]
    },
    {
      "cell_type": "markdown",
      "source": [
        "## Evaluating of the Model"
      ],
      "metadata": {
        "id": "BDFj-b4nxSNW"
      }
    },
    {
      "cell_type": "code",
      "source": [
        "\n",
        "def evaluate_model(dataset, tokenizer, model):\n",
        "    model.eval()\n",
        "    predictions = []\n",
        "    references = []\n",
        "    with torch.no_grad():\n",
        "        for batch in tqdm(test_dataloader, desc=\"Evaluating\"):\n",
        "            input_ids = batch[\"input_ids\"].to(device)\n",
        "            attention_mask = batch[\"attention_mask\"].to(device)\n",
        "            outputs = model.generate(input_ids=input_ids, attention_mask=attention_mask, max_new_tokens=256)\n",
        "            predictions.extend(tokenizer.batch_decode(outputs, skip_special_tokens=True))\n",
        "            references.extend([tokenizer.decode(ref, skip_special_tokens=True) for ref in batch[\"labels\"]])\n",
        "    return predictions, references"
      ],
      "metadata": {
        "id": "sUFbNh_koCnV"
      },
      "execution_count": 12,
      "outputs": []
    },
    {
      "cell_type": "code",
      "source": [
        "#run evaluation\n",
        "predictions, references = evaluate_model(test_dataset, tokenizer, model)"
      ],
      "metadata": {
        "id": "KzY_a3HToIME",
        "colab": {
          "base_uri": "https://localhost:8080/"
        },
        "outputId": "f0fb0c95-eaba-4c5c-ae06-aa6f562305c1"
      },
      "execution_count": 13,
      "outputs": [
        {
          "output_type": "stream",
          "name": "stderr",
          "text": [
            "Evaluating: 100%|██████████| 1/1 [00:03<00:00,  3.69s/it]\n"
          ]
        }
      ]
    },
    {
      "cell_type": "code",
      "source": [
        "#plotting the loss function against train and test epochs\n",
        "\n",
        "# Setting up the graph\n",
        "epochs = range(1, len(train_loss) + 1)  # Generate epoch numbers\n",
        "plt.figure(figsize=(10, 6))\n",
        "plt.plot(epochs, train_loss, label=\"Training Loss\", marker=\"o\")\n",
        "plt.plot(epochs, validation_loss, label=\"Validation Loss\", marker=\"o\", linestyle=\"--\")\n",
        "\n",
        "# Adding labels and title\n",
        "plt.xlabel(\"Epoch\")\n",
        "plt.ylabel(\"Loss\")\n",
        "plt.title(\"Training and Validation Loss by Epoch\")\n",
        "plt.legend()\n",
        "plt.grid(True)\n",
        "\n",
        "# Display the plot\n",
        "plt.show()"
      ],
      "metadata": {
        "id": "ahS51SDwvgEn",
        "outputId": "d0d0a85f-30b1-443c-9474-175f0505c545",
        "colab": {
          "base_uri": "https://localhost:8080/",
          "height": 584
        }
      },
      "execution_count": 14,
      "outputs": [
        {
          "output_type": "display_data",
          "data": {
            "text/plain": [
              "<Figure size 1000x600 with 1 Axes>"
            ],
            "image/png": "[encoded data removed]"
          },
          "metadata": {}
        }
      ]
    },
    {
      "cell_type": "code",
      "source": [
        "\n",
        "# Calculate ROUGE Scores\n",
        "def calculate_rouge(predictions, references):\n",
        "    scorer = rouge_scorer.RougeScorer([\"rouge1\", \"rouge2\", \"rougeL\"], use_stemmer=True)\n",
        "    rouge_scores = {\"rouge1\": [], \"rouge2\": [], \"rougeL\": []}\n",
        "    for ref, pred in zip(references, predictions):\n",
        "        scores = scorer.score(ref, pred)\n",
        "        for key in rouge_scores:\n",
        "            rouge_scores[key].append(scores[key].fmeasure)\n",
        "    return {key: sum(values) / len(values) for key, values in rouge_scores.items()}\n",
        "\n",
        "rouge_scores = calculate_rouge(predictions, references)\n",
        "print(f\"ROUGE Scores: {rouge_scores}\")"
      ],
      "metadata": {
        "id": "x7eyY7bXZv2N",
        "colab": {
          "base_uri": "https://localhost:8080/"
        },
        "outputId": "4515589a-40fe-4f95-c25e-5f1e0fb0e1c7"
      },
      "execution_count": 15,
      "outputs": [
        {
          "output_type": "stream",
          "name": "stdout",
          "text": [
            "ROUGE Scores: {'rouge1': 0.3401572595849989, 'rouge2': 0.11691605211437595, 'rougeL': 0.23937337407269288}\n"
          ]
        }
      ]
    },
    {
      "cell_type": "code",
      "source": [
        "# Calculate BERT Scores\n",
        "def calculate_bert_score(predictions, references):\n",
        "    P, R, F1 = bert_score(predictions, references, model_type=\"bert-base-uncased\", lang=\"en\")\n",
        "    return {\n",
        "        \"Precision\": P.mean().item(),\n",
        "        \"Recall\": R.mean().item(),\n",
        "        \"F1\": F1.mean().item()\n",
        "    }\n",
        "\n",
        "bert_scores = calculate_bert_score(predictions, references)\n",
        "print(f\"BERT Scores: {bert_scores}\")"
      ],
      "metadata": {
        "id": "6c_s9_bOrpSy",
        "colab": {
          "base_uri": "https://localhost:8080/"
        },
        "outputId": "91dec3b5-ff60-4da3-fadd-e6c1330dea90"
      },
      "execution_count": 16,
      "outputs": [
        {
          "output_type": "stream",
          "name": "stdout",
          "text": [
            "BERT Scores: {'Precision': 0.589675784111023, 'Recall': 0.5940993428230286, 'F1': 0.5906026363372803}\n"
          ]
        }
      ]
    },
    {
      "cell_type": "code",
      "source": [
        "# printing the summary predictions on the test set\n",
        "\n",
        "# code to beautify the print statements\n",
        "line_width = 145\n",
        "\n",
        "for indx, val in enumerate(predictions):\n",
        "    print(f\"Reference {indx + 1}:\\n{textwrap.fill(references[indx], width=line_width)}\")\n",
        "    print(f\"Prediction {indx + 1}:\\n{textwrap.fill(val, width=line_width)}\")\n",
        "    print(\"-\" * 30)"
      ],
      "metadata": {
        "id": "UhWlul0vaPsD",
        "colab": {
          "base_uri": "https://localhost:8080/"
        },
        "outputId": "ca02fd36-d4bc-4708-c17a-832af796eb50"
      },
      "execution_count": 17,
      "outputs": [
        {
          "output_type": "stream",
          "name": "stdout",
          "text": [
            "Reference 1:\n",
            "The Swiss Federal University for Vocational Education and Training (SFUVET) is based in Zollikofen and has 3 campuses in Switzerland. These\n",
            "campuses are separated by the language spoken in the region, which are German, French, and Italilan. It colabortates with industry groups and\n",
            "regional authorities to plan courses, services, and research. The government sets their goals and consults with national organikzations like\n",
            "trade unions and employers associations. Old rules have been replaced on August 1, 2021, but a few parts will continue to be active until the end\n",
            "of 2021.\n",
            "Prediction 1:\n",
            "The SFUVET Ordinance is dated June 18, 2020. It is based in Zollikofen, Switzerland. It provides for three regional campuses, one in the German-\n",
            "speaking region, one in the French-speaking region, and one in the Italian-speaking region. Its strategic objectives include the development of\n",
            "new training courses and research areas. It may form advisory boards for professional organisations, cantonal authorities and other interested\n",
            "parties. It repeals the SFIVET Ordinance, which is repealed on a daily basis. It is repealed on a regular basis.\n",
            "------------------------------\n",
            "Reference 2:\n",
            "The Data Protection (Miscellaneous Subject Access Exemptions) Order 1987 exempts certain personal data from the right of access under Part IV of\n",
            "the Data Protection Act 1984. This applies to data where disclosure is restricted or prohibited by specific laws listed in the schedule to the\n",
            "order. These restrictions are intended to protect the interests of individuals or others. The order comes into effect on November 11, 1987.\n",
            "Prediction 2:\n",
            "The Data Protection (Miscellaneous Subject Access Exemptions) Order 1987 allows the disclosure of personal data relating to the disclosure of\n",
            "personal data. The Order also allows the disclosure of personal data relating to the disclosure of personal data. The Order also allows the\n",
            "disclosure of personal data relating to the disclosure of personal data. The Order also allows the disclosure of personal data relating to the\n",
            "disclosure of personal data. The Order also allows the disclosure of personal data relating to the disclosure of personal data. The Order also\n",
            "allows the disclosure of personal data relating to the disclosure of personal data relating to the disclosure of personal data. The Order also\n",
            "allows the disclosure of personal data relating to the disclosure of personal data. The Order also allows the disclosure of personal data\n",
            "relating to the disclosure of personal data. The Order also allows the disclosure of personal data relating to the disclosure of personal data.\n",
            "The Order also allows the disclosure of personal data. The Order also allows the disclosure of personal data. The Order also allows the\n",
            "disclosure of personal data. The Order also allows the disclosure of personal data. The Order also allows the disclosure of personal data. The\n",
            "Order also allows the disclosure of personal data. The Order also allows the disclosure of personal data. The Order\n",
            "------------------------------\n",
            "Reference 3:\n",
            "This Act grants the Federal Council the authority to recognize private agreements between institutions for the avoidance of double taxation on\n",
            "income and capital, when an international treaty on the same issue is not feasible. Recognition of such agreements requires reciprocity,\n",
            "alignment with Switzerlands tax policy, and approval from both the National Council and the Council of States. The Federal Council may withdraw\n",
            "recognition if reciprocity is no longer guaranteed, if the agreement is seriously violated, or if withdrawal is necessary to protect Switzerlands\n",
            "interests. Once recognized, the agreement applies nationwide. The decision and the agreement are published in the Federal Gazette.\n",
            "Prediction 3:\n",
            "The Federal Council has considered the Dispatch on 18 August 2010 and considered the Dispatch on 18 August 2010 (Rule 1012 BBl 2010 5549Art. 1\n",
            "Subject of recognition The Federal Council is authorised to recognise agreements between private institutions for the avoidance of double\n",
            "taxation with respect to taxes on income and capital, provided the conclusion of an international treaty on the same issue is not an option.Art.\n",
            "Requirements The recognition of an agreement requires that the agreement is compatible with Switzerland's agreement policy for the avoidance of\n",
            "double taxation. The competent committees of the National Council and the Council of States have agreed to recognition if the agreements do not\n",
            "agree to recognition.Art. Referendum and commencement of this Act is subject to an optional referendum. The Federal Council decides the\n",
            "commencement date of the Federal Act on the recognition of private agreements for the avoidance of double taxation with respect to taxes on\n",
            "income and capital. The agreement is referred to as a referendum. The referendum is a referendum on the establishment of a referendum on double\n",
            "taxation.\n",
            "------------------------------\n",
            "Reference 4:\n",
            "Article 120 states that discussions in Parliament shall be conducted in Hindi or English. However, members may use their mother tongue with the\n",
            "Speaker's permission. The use of English can be discontinued 15 years after the Constitution's commencement unless Parliament decides otherwise.\n",
            "Article 121 prohibits discussions in Parliament that condemn the conduct of judges in the discharge of their duties. Article 122 states that\n",
            "courts cannot question the use of powers granted by the Constitution to regulate parliamentary procedures or maintain order. Article 123 empowers\n",
            "the President to pass ordinances when both Houses are not in session, provided urgent action is required.\n",
            "Prediction 4:\n",
            "The language used in Parliament is Hindi or English, and the Chairman of the Council of States or Speaker of the House of the People may allow\n",
            "any member of the House of the people to express themselves in Hindi or English. The President may also address the House in his mother-tongue.\n",
            "The validity of the proceedings is not known, and the President may propose Ordinances as he requires.\n",
            "------------------------------\n",
            "Reference 5:\n",
            "The Commission Decision (Case M.7542 - GRIFFIN / SKANSKA / STARWOOD / HOTEL ATRIUM), dated November 26, 2015, approved a joint acquisition of\n",
            "Hotel Atrium sp. z o.o. (owner of the Westin Warsaw hotel) by Griffin, Skanska, and Starwood. Griffin, part of the Oaktree Capital Group,\n",
            "specializes in real estate investments in Central and Eastern Europe. Skanska focuses on real estate development and construction services, while\n",
            "Starwood is a global\n",
            "Prediction 5:\n",
            "The European Commission decided to take a decision on the merger of GT Netherlands IV B.V. ('Griffin') (Netherlands) and Skanska Central Europe\n",
            "Holding B.V. ('Skanska') (Netherlands), a decision based on the Merger Regulation (Rule 6(1)(b) of Council Regulation (EC) No 139/2004. The\n",
            "decision was made on 30 October 2015 by the European Commission. The decision was made by the Oaktree Capital Group LLC, Skanska Central Europe\n",
            "Holding B.V. ('Skanska') (Netherlands), ultimately controlled by Skanska AB ('Skanska Group') and Starwood EAME License and Services Company BVBA\n",
            "('Starwood') (Belgium), ultimately controlled by Starwood Hotels & Resorts Worldwide, Inc., acquired within the meaning of Article 3(1)(b) and\n",
            "3(4) of the Merger Regulation joint control over Hotel Atrium (Sp. z o.o. ('Hotel Atrium') (Poland) by way of purchase of shares and contract of\n",
            "management. The business activities of the undertakings concerned\n",
            "------------------------------\n",
            "Reference 6:\n",
            "Each state will have a governor, and the same person can be appointed as the governor for more than one state. The executive power of the state\n",
            "lies with the governor, who exercises it in accordance with the states constitution. This does not mean that the governor will take over\n",
            "responsibilities already assigned to other authorities by existing laws, nor does it prevent Parliament or the state legislature from giving\n",
            "tasks to other authorities. The governor is appointed by the President through a warrant under his hand and seal. The governor holds the position\n",
            "at the President's discretion and can resign by writing to the President. The governor'\n",
            "Prediction 6:\n",
            "The Governor of the State is appointed by the President, and he must resign his office if he is to be a citizen of India. The Governor may resign\n",
            "his office if he is a citizen of India, and he must continue his office until his successor enters upon his office. The Governor must be able to\n",
            "hold office for five years, and he must be able to serve five years. The Governor must be able to serve five years, and he must be able to serve\n",
            "five years. The Governor must be able to serve five years. The Governor must be able to serve five years. The Governor must be able to serve five\n",
            "years. The Governor must be able to serve five years. The Governor must be able to serve five years. The Governor must be able to serve five\n",
            "years. The Governor must be able to serve five years. The Governor must be able to serve five years. The Governor must be able to serve five\n",
            "years. The Governor must be able to serve five years. The Governor must be able to serve five years. The Governor must be able to serve five\n",
            "years. The Governor must be able to serve\n",
            "------------------------------\n"
          ]
        }
      ]
    },
    {
      "cell_type": "markdown",
      "source": [
        " references\n",
        "  \n",
        " https://huggingface.co/docs/transformers/model_doc/t5\n",
        "\n",
        " model : https://huggingface.co/google/flan-t5-small\n",
        "\n",
        " tokenizer : https://huggingface.co/docs/transformers/main_classes/tokenizer\n",
        "\n",
        " train test split, sklearn : https://scikit-learn.org/stable/modules/generated/sklearn.model_selection.train_test_split.html\n",
        "\n",
        " dataloader : https://pytorch.org/tutorials/beginner/basics/data_tutorial.html\n",
        "\n",
        " optimizer : https://pytorch.org/docs/stable/generated/torch.optim.AdamW.html\n",
        "\n",
        " rogue score : https://huggingface.co/spaces/evaluate-metric/rouge/blob/main/README.md\n",
        "\n",
        " bert_score : https://github.com/Tiiiger/bert_score\n",
        "\n",
        " to beautify the print statements: https://www.geeksforgeeks.org/textwrap-text-wrapping-filling-python/"
      ],
      "metadata": {
        "id": "d8orYrknwVT2"
      }
    },
    {
      "cell_type": "code",
      "source": [],
      "metadata": {
        "id": "zGtdCrnzweCJ"
      },
      "execution_count": 17,
      "outputs": []
    }
  ]
}